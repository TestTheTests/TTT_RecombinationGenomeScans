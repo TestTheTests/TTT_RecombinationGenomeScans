{
 "cells": [
  {
   "cell_type": "markdown",
   "metadata": {
    "slideshow": {
     "slide_type": "slide"
    }
   },
   "source": [
    "# Creating and Evaluating a Classifer\n",
    "\n",
    "Steps:\n",
    "\n",
    "    1) Make the feature vectors\n",
    "    2) Balance the classes\n",
    "    3) Perform a grid search to tune and train the classifier\n",
    "    4) Evaluate the classifier on a test set"
   ]
  },
  {
   "cell_type": "markdown",
   "metadata": {
    "slideshow": {
     "slide_type": "slide"
    }
   },
   "source": [
    "# Making the feature vectors\n",
    "\n",
    "<img src=\"pics/genetic_map.png\">"
   ]
  },
  {
   "cell_type": "markdown",
   "metadata": {
    "slideshow": {
     "slide_type": "subslide"
    }
   },
   "source": [
    "## Explanation of Labels\n",
    "\n",
    "possible muttypes:\n",
    "\n",
    " - **neutral**\n",
    " - **QTN**         : can be either large effect (>.20 of variation in phenotype) or small effect (<.20 of variation)\n",
    " - **deleterious** : mutation that negatively effects fitness\n",
    " - **sweep**       : mutation that has become fixed and is expected to show evidence of a selective sweep around it\n",
    "\n",
    "possible regions:\n",
    "\n",
    " - **Background selection** : any SNP in the 10,000bp region where deleterious mutations occurred \n",
    " - **Near Selective Sweep** : within 1,000bp of the selective sweep\n",
    " - **Far Selective Sweep**  : 1,000-2,000bp from the selective sweep\n",
    " - **large QTN linked**     : within 200bp of a QTN of large effect\n",
    " - **small QTN linked**     : within 200bp of a QTN of small effect\n",
    " - **inversion**            : in an inversion\n",
    " - **low recombination**    : in a region of low recombination\n",
    " "
   ]
  },
  {
   "cell_type": "markdown",
   "metadata": {
    "slideshow": {
     "slide_type": "subslide"
    }
   },
   "source": [
    "<img src=\"pics/manhattan_plot.png\" style=\"max-width:100% width:50%\">"
   ]
  },
  {
   "cell_type": "markdown",
   "metadata": {
    "slideshow": {
     "slide_type": "subslide"
    }
   },
   "source": [
    "## Stats and Explanations\n",
    "\n",
    "**Hscan_v1.3_H12 :** identifies **selective sweeps** by detecting shifts in haplotype frequencies\n",
    "\n",
    "**pcadapt_3.0.4_ALL_log10p :** identifies **QTNs** by differentiation outlier analysis, detects outliers along principal components, effected by low recombination\n",
    "\n",
    "**OutFLANK_0.2_He :** the heterozygosity of the loci\n",
    "\n",
    "**LFMM_ridge_0.0_ALL_log10p :** GWAS method, detects loci that have effects on phenotypes (**QTNs**)\n",
    "\n",
    "**LFMM_lasso_0.0_ALL_log10p :** GWAS method that ids **QTNs**, shows signals in region of low RC more than ridge\n",
    "\n",
    "**rehh_2.0.2_ALL_log10p :** identifes recent, hard **selective sweeps** through reduction in haplotype diversity\n",
    "\n",
    "**Spearmans_ALL_rho :** GEA method that detects **QTNs**, does not correct for population structure\n",
    "\n",
    "**a_freq_final :** Frequency of the allele"
   ]
  },
  {
   "cell_type": "markdown",
   "metadata": {
    "slideshow": {
     "slide_type": "subslide"
    }
   },
   "source": [
    "**pcadapt_3.0.4_PRUNED_log10p :** identifies **QTNs**, should be less effected by low recombination than pcadapt all\n",
    "\n",
    "**RDAvegan_v2.5.2_ALL_loading_RDA1_envi :** GEA method that detects **QTNs** and does not correct for population structure\n",
    "\n",
    "**LEA_1.2.0_ALL_K3_log10p :** GEA method to detect **QTNs**, corrects for population structure (pvalue)\n",
    "\n",
    "**LEA_1.2.0_ALL_K3_z :** GEA method to detect **QTNs**, raw score \n",
    "\n",
    "**baypass_2.1_PRUNED_BF_env :** GEA method to detect **QTNs**\n",
    "\n",
    "**baypass_2.1_PRUNED_XTX :** differentiation outlier method to detect **QTNs**, shows signal at inversion in certain scenarios\n",
    "\n",
    "**OutFLANK_0.2_PRUNED_log10p :** differentiation outlier method to detect **QTNs**, shows signal at inversion in certain scenario"
   ]
  },
  {
   "cell_type": "code",
   "execution_count": 1,
   "metadata": {
    "slideshow": {
     "slide_type": "subslide"
    }
   },
   "outputs": [],
   "source": [
    "def findLabel(pos, muttype):\n",
    "    # 1 = neut, 2 = QTN, 3 = delet, 4 = sweep\n",
    "    muttypes = {\"MT=1\" : \"neut\", \n",
    "                \"MT=2\" : \"QTN\",\n",
    "                \"MT=3\" : \"delet\",\n",
    "                \"MT=4\" : \"sweep\",\n",
    "                \"MT=5\" : \"neut\"}         ### MT=5 is a artifact from SLiM to preserve the inversion\n",
    "    try:\n",
    "        mtLabel = muttypes[muttype]\n",
    "    except KeyError:\n",
    "        warnings.warn(\"Unknown muttype \" + muttype)\n",
    "        mtLabel = \"INVALID\"\n",
    "    \n",
    "    pos = float(pos)\n",
    "    if  200001 <= pos <= 230000 or  270001 <= pos <= 280000:\n",
    "        region = \"BS\"\n",
    "    elif 174000 <= pos <= 176000:\n",
    "        region = \"NearSS\"\n",
    "    elif 173000 <= pos <= 17399 or 176001 <= pos <= 177000:\n",
    "        region = \"FarSS\"\n",
    "    elif 320000 <= pos <= 330000:\n",
    "        region = \"invers\"\n",
    "    elif 370000 <= pos <= 380000:\n",
    "        region = \"lowRC\"\n",
    "    else:\n",
    "        region = \"neutral\"\n",
    "    return \"MT=\" + mtLabel + \"_R=\" + region"
   ]
  },
  {
   "cell_type": "code",
   "execution_count": 2,
   "metadata": {
    "slideshow": {
     "slide_type": "subslide"
    }
   },
   "outputs": [],
   "source": [
    "def splitAndWrite(features, outdir):\n",
    "    \n",
    "    ### remove chr 9 because it is variable and would throw off results\n",
    "    grouped = features.groupby('chrom')\n",
    "    features = features.drop(grouped.get_group('9').index)\n",
    "\n",
    "    ### scale all the stats we will be looking at by chromosome using scaleStats function\n",
    "    #scaledFeatures = features.groupby('chrom')[stats].transform(scaleStats)\n",
    "    \n",
    "    # scale stats across whole genome\n",
    "    scaledFeatures = features[stats].transform(scaleStats)\n",
    "    \n",
    "    # add class labels\n",
    "    scaledFeatures.insert(loc = 0, column = 'classLabel', \n",
    "                          value = np.vectorize(findLabel)(features['pos'], features['muttype']))\n",
    "    # add pos and prop back in to locate QTNs of large and small effect\n",
    "    scaledFeatures.insert(loc = 0, column = 'pos', value = features['pos'].astype(\"float\"))\n",
    "    scaledFeatures.insert(loc = 0, column = 'prop', value = pd.to_numeric(features['prop'], errors = \"coerce\"))\n",
    "    \n",
    "    ## add labels to the SNPs within 200bp of a QTN\n",
    "    smallQTNs = scaledFeatures[((scaledFeatures['classLabel'] == 'MT=QTN_R=neutral') & \n",
    "                               (scaledFeatures['prop'] < .2))]['pos']\n",
    "\n",
    "    largeQTNs = scaledFeatures[((scaledFeatures['classLabel'] == 'MT=QTN_R=neutral') & \n",
    "                               (scaledFeatures['prop'] >= .2))]['pos']\n",
    "    \n",
    "    scaledFeatures.loc[scaledFeatures['pos'].isin(smallQTNs), 'classLabel'] = 'MT=smQTN_R=smQTNlink'\n",
    "    scaledFeatures.loc[scaledFeatures['pos'].isin(largeQTNs), 'classLabel'] = 'MT=lgQTN_R=lgQTNlink'\n",
    "\n",
    "    for site in smallQTNs:\n",
    "        lower = site - 200\n",
    "        upper = site + 200\n",
    "        scaledFeatures.loc[(scaledFeatures['pos'].between(lower, upper, inclusive = True)) & \n",
    "                        (scaledFeatures['pos'] != site), 'classLabel'] = 'MT=neut_R=smQTNlink'\n",
    "    for site in largeQTNs:\n",
    "        lower = site - 200\n",
    "        upper = site + 200\n",
    "        scaledFeatures.loc[(scaledFeatures['pos'].between(lower, upper, inclusive = True)) &\n",
    "                        (scaledFeatures['pos'] != site),'classLabel'] = 'MT=neut_R=lgQTNlink'\n",
    "   \n",
    "    ## drop the positions and props and write to file by group\n",
    "    scaledFeatures = scaledFeatures.drop(columns = ['pos', 'prop'])\n",
    "    labelGrouped   = scaledFeatures.groupby('classLabel')\n",
    "    for name, group in labelGrouped:\n",
    "        outfile     = outdir + \"/\" + name + \".fvec\"\n",
    "        outfile     = outfile.replace(\"=\", \"-\")\n",
    "        fileExists  = os.path.exists(outfile)            # does the file already exist?\n",
    "        \n",
    "        with open(outfile, 'a') as f:\n",
    "            group.to_csv(f, sep = '\\t', index = False, header = not fileExists)"
   ]
  },
  {
   "cell_type": "markdown",
   "metadata": {
    "slideshow": {
     "slide_type": "slide"
    }
   },
   "source": [
    "# Train the classifier\n",
    "\n",
    "<img src=\"pics/random_forest.jpg\">\n",
    "\n"
   ]
  },
  {
   "cell_type": "markdown",
   "metadata": {
    "slideshow": {
     "slide_type": "subslide"
    }
   },
   "source": [
    "## First, balance the classes"
   ]
  },
  {
   "cell_type": "code",
   "execution_count": 5,
   "metadata": {
    "slideshow": {
     "slide_type": "subslide"
    }
   },
   "outputs": [
    {
     "name": "stdout",
     "output_type": "stream",
     "text": [
      "MT=delet_R=BS            :    379\n",
      "MT=lgQTN_R=lgQTNlink     :     86\n",
      "MT=neut_R=BS             :  31197\n",
      "MT=neut_R=FarSS          :    585\n",
      "MT=neut_R=NearSS         :    983\n",
      "MT=neut_R=invers         :  11920\n",
      "MT=neut_R=lgQTNlink      :    502\n",
      "MT=neut_R=lowRC          :   8644\n",
      "MT=neut_R=neutral        : 312608\n",
      "MT=neut_R=smQTNlink      :   3511\n",
      "MT=smQTN_R=smQTNlink     :    639\n",
      "MT=sweep_R=NearSS        :     53\n"
     ]
    },
    {
     "name": "stderr",
     "output_type": "stream",
     "text": [
      "Training set size after split: 6170\n",
      "Testing set size: 2057\n",
      "training set size after balancing: 9204\n"
     ]
    }
   ],
   "source": [
    "from imblearn.over_sampling import ADASYN, SMOTE, RandomOverSampler\n",
    "#balance the training set\n",
    "# minClassSize = min([len(XH[classLabel]) for classLabel in  XH.keys()])\n",
    "X = []\n",
    "y = []\n",
    "for classLabel in sorted(XH.keys()):\n",
    "    print('{:24} : {:>6}'.format(classLabel, str(len(XH[classLabel]))))\n",
    "    random.shuffle(XH[classLabel])\n",
    "    for i in range(1000):\n",
    "        try:\n",
    "            currVector = XH[classLabel][i]\n",
    "        except IndexError:\n",
    "            break\n",
    "        X.append(currVector)\n",
    "        y.append(classLabel)\n",
    "        \n",
    "X_train, X_test, y_train, y_test = train_test_split(X, y, random_state=0)"
   ]
  },
  {
   "cell_type": "markdown",
   "metadata": {
    "slideshow": {
     "slide_type": "subslide"
    }
   },
   "source": [
    "<img src=\"pics/SMOTE_R_visualisation_4.png\">"
   ]
  },
  {
   "cell_type": "markdown",
   "metadata": {
    "slideshow": {
     "slide_type": "slide"
    }
   },
   "source": [
    "## Grid Search to tune the hyperparameters\n",
    "\n",
    "<img src=\"pics/grid_search.gif\">"
   ]
  },
  {
   "cell_type": "code",
   "execution_count": 11,
   "metadata": {
    "slideshow": {
     "slide_type": "subslide"
    }
   },
   "outputs": [
    {
     "name": "stderr",
     "output_type": "stream",
     "text": [
      "Checking accuracy when distinguishing among all 12 classes\n",
      "Training extraTreesClassifier\n",
      "GridSearchCV took 1144.47 seconds for 432 candidate parameter settings.\n"
     ]
    },
    {
     "name": "stdout",
     "output_type": "stream",
     "text": [
      "Results for extraTreesClassifier\n",
      "Model with rank: 1\n",
      "Mean validation score: 0.691 (std: 0.041)\n",
      "Parameters: {'bootstrap': False, 'min_samples_leaf': 1, 'min_samples_split': 2, 'criterion': 'entropy', 'max_features': 15, 'max_depth': None}\n",
      "\n",
      "Model with rank: 2\n",
      "Mean validation score: 0.691 (std: 0.048)\n",
      "Parameters: {'bootstrap': False, 'min_samples_leaf': 1, 'min_samples_split': 2, 'criterion': 'gini', 'max_features': 3, 'max_depth': None}\n",
      "\n",
      "Model with rank: 3\n",
      "Mean validation score: 0.691 (std: 0.037)\n",
      "Parameters: {'bootstrap': False, 'min_samples_leaf': 1, 'min_samples_split': 3, 'criterion': 'entropy', 'max_features': 15, 'max_depth': None}\n",
      "\n"
     ]
    },
    {
     "data": {
      "text/plain": [
       "['QTNdistinct.p']"
      ]
     },
     "execution_count": 11,
     "metadata": {},
     "output_type": "execute_result"
    }
   ],
   "source": []
  },
  {
   "cell_type": "markdown",
   "metadata": {
    "slideshow": {
     "slide_type": "slide"
    }
   },
   "source": [
    "## Test the best classifier and evaluate\n"
   ]
  },
  {
   "cell_type": "markdown",
   "metadata": {
    "slideshow": {
     "slide_type": "subslide"
    }
   },
   "source": [
    "| Class      | precision  |  recall | f1-score  | support |\n",
    "|------------|-----------|----------|-----------|---------|                      \n",
    "| MT=delet_R=BS   |    0.15   |   0.23  |    0.18     |  109 |      \n",
    "| MT=lgQTN_R=lgQTNlink    |   0.35   |   0.42   |   0.38    |    19 |\n",
    "| MT=neut_R=BS  |     0.30   |   0.33    |  0.32  |     236 |\n",
    "| MT=neut_R=FarSS   |    0.33  |    0.32  |    0.33     |  145 |\n",
    "| MT=neut_R=NearSS   |    0.63   |   0.57   |   0.60   |    253 |\n",
    "| *MT=neut_R=invers*    |   0.88    |  0.77    |  **0.82**     |  250 |\n",
    "| MT=neut_R=lgQTNlink   |    0.40    |  0.35   |   0.37    |   133 |\n",
    "| *MT=neut_R=lowRC*     |  0.66    |  0.82    |  **0.73**     |  233 |\n",
    "| MT=neut_R=neutral    |   0.29  |    0.26   |   0.27   |    264 |\n",
    "| MT=neut_R=smQTNlink   |    0.35   |   0.31  |    0.33   |    240 |\n",
    "| MT=smQTN_R=smQTNlink   |    0.46   |   0.42   |   0.44   |    161 |\n",
    "| MT=sweep_R=NearSS   |    0.21  |    0.36    |  0.26      |  14 | \n",
    "| **avg / total**   |   **0.47**    |  **0.46**   |   **0.46**    |  **2057** |\n"
   ]
  },
  {
   "cell_type": "markdown",
   "metadata": {
    "slideshow": {
     "slide_type": "subslide"
    }
   },
   "source": [
    "<img src=\"pics/organized_output.png\">"
   ]
  },
  {
   "cell_type": "markdown",
   "metadata": {
    "slideshow": {
     "slide_type": "slide"
    }
   },
   "source": [
    "<img src=\"pics/bernie.jpeg\" style=\"max-width:100%; width:75%\">"
   ]
  }
 ],
 "metadata": {
  "celltoolbar": "Slideshow",
  "kernelspec": {
   "display_name": "Python3 (ML)",
   "language": "python",
   "name": "ml"
  },
  "language_info": {
   "codemirror_mode": {
    "name": "ipython",
    "version": 2
   },
   "file_extension": ".py",
   "mimetype": "text/x-python",
   "name": "python",
   "nbconvert_exporter": "python",
   "pygments_lexer": "ipython2",
   "version": "2.7.15"
  }
 },
 "nbformat": 4,
 "nbformat_minor": 2
}
